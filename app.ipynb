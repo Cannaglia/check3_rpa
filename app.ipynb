{
 "cells": [
  {
   "cell_type": "markdown",
   "metadata": {},
   "source": [
    "Importando libs "
   ]
  },
  {
   "cell_type": "code",
   "execution_count": 1,
   "metadata": {},
   "outputs": [],
   "source": [
    "from bs4 import BeautifulSoup\n",
    "import requests as r \n",
    "import pandas as pd\n",
    "import calendar\n",
    "import datetime\n",
    "from datetime import datetime\n",
    "import smtplib, ssl"
   ]
  },
  {
   "cell_type": "markdown",
   "metadata": {},
   "source": [
    "Definindo URL"
   ]
  },
  {
   "cell_type": "code",
   "execution_count": 2,
   "metadata": {},
   "outputs": [],
   "source": [
    "url = \"https://www.metacritic.com/browse/albums/release-date/coming-soon/date\"\n",
    "user_agent = {'User-Agent': 'Mozilla/5.0 (Macintosh; Intel Mac OS X 10_11_4) AppleWebKit/537.36 (KHTML, like Gecko) Chrome/51.0.2704.103 Safari/537.36'}"
   ]
  },
  {
   "cell_type": "code",
   "execution_count": 3,
   "metadata": {},
   "outputs": [],
   "source": [
    "response = r.get(url, headers=user_agent)"
   ]
  },
  {
   "cell_type": "code",
   "execution_count": 4,
   "metadata": {},
   "outputs": [],
   "source": [
    "wiki_text = response.text"
   ]
  },
  {
   "cell_type": "code",
   "execution_count": 5,
   "metadata": {},
   "outputs": [],
   "source": [
    "soup = BeautifulSoup(wiki_text, 'html.parser')"
   ]
  },
  {
   "cell_type": "markdown",
   "metadata": {},
   "source": [
    "Exibindo conteúdo HTML"
   ]
  },
  {
   "cell_type": "code",
   "execution_count": null,
   "metadata": {},
   "outputs": [],
   "source": [
    "print (soup)"
   ]
  },
  {
   "cell_type": "markdown",
   "metadata": {},
   "source": [
    "Abaixo, selecionaremos a tabela que queremos raspar"
   ]
  },
  {
   "cell_type": "code",
   "execution_count": 7,
   "metadata": {},
   "outputs": [],
   "source": [
    "tables = soup.find_all('table')"
   ]
  },
  {
   "cell_type": "markdown",
   "metadata": {},
   "source": [
    "No nosso caso, a pagina web selecionada só possui 2 tabelas. Como queremos inspecionar a primeira, setamos o argumento [0]"
   ]
  },
  {
   "cell_type": "code",
   "execution_count": null,
   "metadata": {},
   "outputs": [],
   "source": [
    "# Selecionando a tabela com os conteudos de interesse\n",
    "releases = tables[0]\n",
    "# Printando html da tabela desejada\n",
    "print (releases.prettify())"
   ]
  },
  {
   "cell_type": "markdown",
   "metadata": {},
   "source": [
    "Função para pegar os campos de interesse e montar a dataset"
   ]
  },
  {
   "cell_type": "code",
   "execution_count": 9,
   "metadata": {},
   "outputs": [],
   "source": [
    "a = []\n",
    "b = []\n",
    "c = []\n",
    "data = pd.Series(\"Data\")\n",
    "\n",
    "def monta_df():\n",
    "   try:\n",
    "      table = releases.find_all('tr')\n",
    "      \n",
    "      for i in table:\n",
    "         data = (i.find_all('th', {'class':'head head_type_1'}))\n",
    "         # Aqui estamos pegando os dias\n",
    "         for wrapper in data:\n",
    "            format_data_a = wrapper.text.strip()\n",
    "         a.append(format_data_a)\n",
    "         # Executei esse outro for para remover um único valor duplicado de cada entrada de data\n",
    "         for wrapper in data:\n",
    "            format_data_a = wrapper.text.strip()\n",
    "            a.remove(format_data_a)\n",
    "\n",
    "         data2 = (i.find_all('td', {'class':'artistName'}))\n",
    "         # Pegando o artista\n",
    "         for wrapper in data2:\n",
    "            format_data_b = wrapper.text.strip()\n",
    "            b.append(format_data_b)\n",
    "         \n",
    "         data3 = (i.find_all('td', {'class':'albumTitle'}))\n",
    "         # Pegando o album\n",
    "         for wrapper in data3:\n",
    "            format_data_c = wrapper.text.strip()\n",
    "            c.append(format_data_c)\n",
    "      \n",
    "      # Concatenando as infos em um dataframe\n",
    "      dict_data = {\n",
    "      'Data': a,\n",
    "      'Artista': b,\n",
    "      'Album': c\n",
    "      }\n",
    "      df = pd.DataFrame(data = dict_data)\n",
    "      return df\n",
    "      \n",
    "   except:\n",
    "      print('Erro ao montar df')\n",
    "\n"
   ]
  },
  {
   "cell_type": "markdown",
   "metadata": {},
   "source": [
    "Retorno do DF"
   ]
  },
  {
   "cell_type": "code",
   "execution_count": 11,
   "metadata": {},
   "outputs": [
    {
     "data": {
      "text/html": [
       "<div>\n",
       "<style scoped>\n",
       "    .dataframe tbody tr th:only-of-type {\n",
       "        vertical-align: middle;\n",
       "    }\n",
       "\n",
       "    .dataframe tbody tr th {\n",
       "        vertical-align: top;\n",
       "    }\n",
       "\n",
       "    .dataframe thead th {\n",
       "        text-align: right;\n",
       "    }\n",
       "</style>\n",
       "<table border=\"1\" class=\"dataframe\">\n",
       "  <thead>\n",
       "    <tr style=\"text-align: right;\">\n",
       "      <th></th>\n",
       "      <th>Data</th>\n",
       "      <th>Artista</th>\n",
       "      <th>Album</th>\n",
       "    </tr>\n",
       "  </thead>\n",
       "  <tbody>\n",
       "    <tr>\n",
       "      <th>0</th>\n",
       "      <td>24 June 2022</td>\n",
       "      <td>Alexisonfire</td>\n",
       "      <td>Otherness</td>\n",
       "    </tr>\n",
       "    <tr>\n",
       "      <th>1</th>\n",
       "      <td>24 June 2022</td>\n",
       "      <td>CANDY</td>\n",
       "      <td>Heaven Is Here</td>\n",
       "    </tr>\n",
       "    <tr>\n",
       "      <th>2</th>\n",
       "      <td>24 June 2022</td>\n",
       "      <td>Conan Gray</td>\n",
       "      <td>Superache</td>\n",
       "    </tr>\n",
       "    <tr>\n",
       "      <th>3</th>\n",
       "      <td>24 June 2022</td>\n",
       "      <td>Goose</td>\n",
       "      <td>Dripfield</td>\n",
       "    </tr>\n",
       "    <tr>\n",
       "      <th>4</th>\n",
       "      <td>24 June 2022</td>\n",
       "      <td>Jack Johnson</td>\n",
       "      <td>Meet The Moonlight</td>\n",
       "    </tr>\n",
       "    <tr>\n",
       "      <th>...</th>\n",
       "      <td>...</td>\n",
       "      <td>...</td>\n",
       "      <td>...</td>\n",
       "    </tr>\n",
       "    <tr>\n",
       "      <th>92</th>\n",
       "      <td>7 October 2022</td>\n",
       "      <td>Bonny Light Horseman</td>\n",
       "      <td>Rolling Golden Holy</td>\n",
       "    </tr>\n",
       "    <tr>\n",
       "      <th>93</th>\n",
       "      <td>7 October 2022</td>\n",
       "      <td>Counterparts</td>\n",
       "      <td>A Eulogy For Those Still Here</td>\n",
       "    </tr>\n",
       "    <tr>\n",
       "      <th>94</th>\n",
       "      <td>7 October 2022</td>\n",
       "      <td>Lamb of God</td>\n",
       "      <td>Omens</td>\n",
       "    </tr>\n",
       "    <tr>\n",
       "      <th>95</th>\n",
       "      <td>21 October 2022</td>\n",
       "      <td>Dry Cleaning</td>\n",
       "      <td>Stumpwork</td>\n",
       "    </tr>\n",
       "    <tr>\n",
       "      <th>96</th>\n",
       "      <td>21 October 2022</td>\n",
       "      <td>Simple Minds</td>\n",
       "      <td>Direction Of The Heart</td>\n",
       "    </tr>\n",
       "  </tbody>\n",
       "</table>\n",
       "<p>97 rows × 3 columns</p>\n",
       "</div>"
      ],
      "text/plain": [
       "               Data               Artista                          Album\n",
       "0      24 June 2022          Alexisonfire                      Otherness\n",
       "1      24 June 2022                 CANDY                 Heaven Is Here\n",
       "2      24 June 2022            Conan Gray                      Superache\n",
       "3      24 June 2022                 Goose                      Dripfield\n",
       "4      24 June 2022          Jack Johnson             Meet The Moonlight\n",
       "..              ...                   ...                            ...\n",
       "92   7 October 2022  Bonny Light Horseman            Rolling Golden Holy\n",
       "93   7 October 2022          Counterparts  A Eulogy For Those Still Here\n",
       "94   7 October 2022           Lamb of God                          Omens\n",
       "95  21 October 2022          Dry Cleaning                      Stumpwork\n",
       "96  21 October 2022          Simple Minds         Direction Of The Heart\n",
       "\n",
       "[97 rows x 3 columns]"
      ]
     },
     "execution_count": 11,
     "metadata": {},
     "output_type": "execute_result"
    }
   ],
   "source": [
    "monta_df()"
   ]
  },
  {
   "cell_type": "markdown",
   "metadata": {},
   "source": [
    "Função de enviar notificação"
   ]
  },
  {
   "cell_type": "code",
   "execution_count": 12,
   "metadata": {},
   "outputs": [],
   "source": [
    "def enviar_email():#criei uma função para envia ro email\n",
    "\n",
    "    port = 465  # For SSL\n",
    "    smtp_server = \"coloque o endereço do seu servidor smtp\"\n",
    "    sender_email = \"coloque seu email de envio\"  # Enter your address\n",
    "    receiver_email = \"coloque o email de quem vai receber\"  # Enter receiver address\n",
    "    password = \"coloque sua senha\"\n",
    "\n",
    "    message = \"Subject: AVISO DE LANCAMENTO NOVO AMANHA\\n\\n\"\n",
    "  \n",
    "    message += \"NÂO ESQUEÇA AMANHA SERÁ O LANCAMENTO DE UM NOVO ALBUM\"\n",
    "    \n",
    "    context = ssl.create_default_context()\n",
    "    with smtplib.SMTP_SSL(smtp_server, port, context=context) as server:\n",
    "        server.login(sender_email, password)\n",
    "        server.sendmail(sender_email, receiver_email, message)"
   ]
  },
  {
   "cell_type": "code",
   "execution_count": 18,
   "metadata": {},
   "outputs": [],
   "source": []
  },
  {
   "cell_type": "code",
   "execution_count": null,
   "metadata": {},
   "outputs": [],
   "source": []
  }
 ],
 "metadata": {
  "kernelspec": {
   "display_name": "Python 3.8.3 ('base')",
   "language": "python",
   "name": "python3"
  },
  "language_info": {
   "codemirror_mode": {
    "name": "ipython",
    "version": 3
   },
   "file_extension": ".py",
   "mimetype": "text/x-python",
   "name": "python",
   "nbconvert_exporter": "python",
   "pygments_lexer": "ipython3",
   "version": "3.8.3"
  },
  "orig_nbformat": 4,
  "vscode": {
   "interpreter": {
    "hash": "3ee4da69d8e57504e44ba5ca489ae829cdc8e195074989e97fde58df049649b7"
   }
  }
 },
 "nbformat": 4,
 "nbformat_minor": 2
}
